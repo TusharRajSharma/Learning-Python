{
 "cells": [
  {
   "cell_type": "code",
   "execution_count": 12,
   "metadata": {},
   "outputs": [],
   "source": [
    "# Question 1"
   ]
  },
  {
   "cell_type": "code",
   "execution_count": 1,
   "metadata": {},
   "outputs": [
    {
     "name": "stdout",
     "output_type": "stream",
     "text": [
      "enter the value10\n",
      "enter the value10\n",
      "it is square\n"
     ]
    }
   ],
   "source": [
    "length = float(input(\"enter the value\"))\n",
    "breadth = float(input(\"enter the value\"))\n",
    "if(length==breadth):\n",
    "    print(\"it is square\")\n",
    "else:\n",
    "    print(\"it is not square\")"
   ]
  },
  {
   "cell_type": "code",
   "execution_count": 11,
   "metadata": {},
   "outputs": [],
   "source": [
    "# Question 2"
   ]
  },
  {
   "cell_type": "code",
   "execution_count": 2,
   "metadata": {},
   "outputs": [
    {
     "name": "stdout",
     "output_type": "stream",
     "text": [
      "56465\n",
      "5464\n",
      "a is greater\n"
     ]
    }
   ],
   "source": [
    "a = int(input())\n",
    "b = int(input())\n",
    "if(a>b):\n",
    "    print(\"a is greater\")\n",
    "else:\n",
    "    print(\"b is greater\")"
   ]
  },
  {
   "cell_type": "code",
   "execution_count": 19,
   "metadata": {},
   "outputs": [],
   "source": [
    "# Question 3"
   ]
  },
  {
   "cell_type": "code",
   "execution_count": 16,
   "metadata": {},
   "outputs": [
    {
     "name": "stdout",
     "output_type": "stream",
     "text": [
      "enter the quantity10\n",
      "total cost = 900.0\n"
     ]
    }
   ],
   "source": [
    "a = int(input(\"enter the quantity\"))\n",
    "cp = a*100\n",
    "if(cp>=1000):\n",
    "    newcp=cp/10\n",
    "    cp = cp-newcp\n",
    "    print(\"total cost =\",cp)\n",
    "else:\n",
    "    print(\"no discount\",'\\n''cost','=', a*100)"
   ]
  },
  {
   "cell_type": "code",
   "execution_count": 1,
   "metadata": {},
   "outputs": [],
   "source": [
    "# Question 4"
   ]
  },
  {
   "cell_type": "code",
   "execution_count": 19,
   "metadata": {},
   "outputs": [
    {
     "name": "stdout",
     "output_type": "stream",
     "text": [
      "enter amount:100000\n",
      "year of service:5.1\n",
      "bonus: 60000.0\n"
     ]
    }
   ],
   "source": [
    "salary = int(input(\"enter amount:\"))\n",
    "bonus = (salary*12)*(5/100)\n",
    "service = float(input(\"year of service:\"))\n",
    "if(service>5):\n",
    "    print('bonus:',bonus)\n",
    "else:\n",
    "    print('salary:',salary)"
   ]
  },
  {
   "cell_type": "code",
   "execution_count": 14,
   "metadata": {},
   "outputs": [],
   "source": [
    "# Question 5"
   ]
  },
  {
   "cell_type": "code",
   "execution_count": 13,
   "metadata": {},
   "outputs": [
    {
     "name": "stdout",
     "output_type": "stream",
     "text": [
      "enter grade95\n"
     ]
    }
   ],
   "source": [
    "grade = int(input(\"enter grade\"))"
   ]
  },
  {
   "cell_type": "code",
   "execution_count": 14,
   "metadata": {},
   "outputs": [
    {
     "name": "stdout",
     "output_type": "stream",
     "text": [
      "A\n"
     ]
    }
   ],
   "source": [
    "if(grade<25):\n",
    "    print(\"F\")\n",
    "elif(grade>=25 and grade<45):\n",
    "    print(\"E\")\n",
    "elif(grade>=45 and grade<50):\n",
    "    print(\"G\")\n",
    "elif(grade>=50 and grade<60):\n",
    "    print(\"C\")\n",
    "elif(grade>=60 and grade<80):\n",
    "    print(\"B\")\n",
    "elif(grade>=80):\n",
    "    print(\"A\")"
   ]
  },
  {
   "cell_type": "code",
   "execution_count": null,
   "metadata": {},
   "outputs": [],
   "source": []
  },
  {
   "cell_type": "code",
   "execution_count": null,
   "metadata": {},
   "outputs": [],
   "source": [
    "# Question 6"
   ]
  },
  {
   "cell_type": "code",
   "execution_count": 1,
   "metadata": {},
   "outputs": [
    {
     "name": "stdout",
     "output_type": "stream",
     "text": [
      "age of 1st person20\n",
      "age of 2nd person25\n",
      "age of 3rd person30\n"
     ]
    }
   ],
   "source": [
    "age1 = float(input(\"age of 1st person\"))\n",
    "age2 = float(input(\"age of 2nd person\"))\n",
    "age3 = float(input(\"age of 3rd person\"))\n"
   ]
  },
  {
   "cell_type": "code",
   "execution_count": 2,
   "metadata": {},
   "outputs": [
    {
     "name": "stdout",
     "output_type": "stream",
     "text": [
      "age3 is oldest\n",
      "age1 is youngest\n"
     ]
    }
   ],
   "source": [
    "if(age1>age2):\n",
    "    if(age1>age3):\n",
    "        print(\"age1 is oldest\")\n",
    "    else:\n",
    "        print(\"age3 is oldest\")\n",
    "    if(age2>age3):\n",
    "        print(\"age3 is youngest\")\n",
    "    else:\n",
    "        print(\"age2 is youngest\")\n",
    "else:\n",
    "    if(age2>age3):\n",
    "        print(\"age2 is oldest\")\n",
    "    else:\n",
    "        print(\"age3 is oldest\")\n",
    "    if(age3>age1):\n",
    "        print(\"age1 is youngest\")\n",
    "    else:\n",
    "        print(\"age3 is youngest\")"
   ]
  },
  {
   "cell_type": "code",
   "execution_count": null,
   "metadata": {},
   "outputs": [],
   "source": []
  },
  {
   "cell_type": "code",
   "execution_count": null,
   "metadata": {},
   "outputs": [],
   "source": [
    "# Question 7"
   ]
  },
  {
   "cell_type": "code",
   "execution_count": 11,
   "metadata": {},
   "outputs": [
    {
     "name": "stdout",
     "output_type": "stream",
     "text": [
      "enter value2\n"
     ]
    }
   ],
   "source": []
  },
  {
   "cell_type": "code",
   "execution_count": 27,
   "metadata": {},
   "outputs": [
    {
     "name": "stdout",
     "output_type": "stream",
     "text": [
      "enter value: -5\n",
      "absolute value is:  5\n"
     ]
    }
   ],
   "source": [
    "A = int(input(\"enter value: \"))\n",
    "if(A>0):\n",
    "    print(\"absolute value is: \",A)\n",
    "elif(A==0):\n",
    "    print(\"absolute value is: \",A)\n",
    "elif(A<0):\n",
    "    print(\"absolute value is: \",-A)"
   ]
  },
  {
   "cell_type": "code",
   "execution_count": null,
   "metadata": {},
   "outputs": [],
   "source": []
  },
  {
   "cell_type": "code",
   "execution_count": null,
   "metadata": {},
   "outputs": [],
   "source": [
    "# Question 8"
   ]
  },
  {
   "cell_type": "code",
   "execution_count": 28,
   "metadata": {},
   "outputs": [
    {
     "name": "stdout",
     "output_type": "stream",
     "text": [
      "no. of classes held100\n",
      "no. of classes attended75\n",
      "student is allowed to sit in exam\n"
     ]
    }
   ],
   "source": [
    "classes = int(input(\"no. of classes held\"))\n",
    "attendence = int(input(\"no. of classes attended\"))\n",
    "percent=attendence/classes*100\n",
    "if(percent>=75):\n",
    "    print(\"student is allowed to sit in exam\")\n",
    "else:\n",
    "    print(\"student is not allowed to sit in exam\")"
   ]
  },
  {
   "cell_type": "code",
   "execution_count": null,
   "metadata": {},
   "outputs": [],
   "source": [
    "# Question 9"
   ]
  },
  {
   "cell_type": "code",
   "execution_count": 3,
   "metadata": {},
   "outputs": [
    {
     "name": "stdout",
     "output_type": "stream",
     "text": [
      "no. of classes held100\n",
      "no. of classes attended60\n",
      "student has medical case: y\n",
      "student is allowed to sit in exam\n"
     ]
    }
   ],
   "source": [
    "classes = int(input(\"no. of classes held\"))\n",
    "attendence = int(input(\"no. of classes attended\"))\n",
    "percent=attendence/classes*100\n",
    "medical = input(\"student has medical case: \")\n",
    "if percent>=75:\n",
    "    print(\"student is allowed to sit in exam\")\n",
    "elif medical ==\"y\":\n",
    "        print(\"student is allowed to sit in exam\")\n",
    "else:\n",
    "        print(\"student is not allowed to sit in exam\")"
   ]
  },
  {
   "cell_type": "code",
   "execution_count": null,
   "metadata": {},
   "outputs": [],
   "source": []
  }
 ],
 "metadata": {
  "kernelspec": {
   "display_name": "Python 3",
   "language": "python",
   "name": "python3"
  },
  "language_info": {
   "codemirror_mode": {
    "name": "ipython",
    "version": 3
   },
   "file_extension": ".py",
   "mimetype": "text/x-python",
   "name": "python",
   "nbconvert_exporter": "python",
   "pygments_lexer": "ipython3",
   "version": "3.7.3"
  }
 },
 "nbformat": 4,
 "nbformat_minor": 2
}
